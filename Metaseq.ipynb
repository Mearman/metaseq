{
  "nbformat": 4,
  "nbformat_minor": 0,
  "metadata": {
    "colab": {
      "name": "Metaseq.ipynb",
      "provenance": [],
      "collapsed_sections": [],
      "authorship_tag": "ABX9TyMZcLCA1aeCDMBylclDYzbq",
      "include_colab_link": true
    },
    "kernelspec": {
      "name": "python3",
      "display_name": "Python 3"
    },
    "language_info": {
      "name": "python"
    }
  },
  "cells": [
    {
      "cell_type": "markdown",
      "metadata": {
        "id": "view-in-github",
        "colab_type": "text"
      },
      "source": [
        "<a href=\"https://colab.research.google.com/github/Mearman/metaseq/blob/main/Metaseq.ipynb\" target=\"_parent\"><img src=\"https://colab.research.google.com/assets/colab-badge.svg\" alt=\"Open In Colab\"/></a>"
      ]
    },
    {
      "cell_type": "markdown",
      "source": [
        "Source: https://github.com/facebookresearch/metaseq\n",
        "# Setup\n",
        "\n",
        "We rely on the following external repositories:\n",
        "* https://github.com/ngoyal2707/Megatron-LM/tree/fairseq_v2\n",
        "* https://github.com/NVIDIA/apex\n",
        "* https://github.com/facebookresearch/fairscale.git"
      ],
      "metadata": {
        "id": "-iTWt78ixubK"
      }
    },
    {
      "cell_type": "markdown",
      "source": [
        "## Install PyTorch"
      ],
      "metadata": {
        "id": "VxVeiRN20I90"
      }
    },
    {
      "cell_type": "code",
      "source": [
        "! pip3 install torch==1.10.1+cu113 torchvision==0.11.2+cu113 torchaudio==0.10.1+cu113 -f https://download.pytorch.org/whl/cu113/torch_stable.html"
      ],
      "metadata": {
        "colab": {
          "base_uri": "https://localhost:8080/"
        },
        "id": "xMZYRzayz_3P",
        "outputId": "03b24c35-6dea-4783-fff6-2dcd5f2ba21a"
      },
      "execution_count": 14,
      "outputs": [
        {
          "output_type": "stream",
          "name": "stdout",
          "text": [
            "Looking in links: https://download.pytorch.org/whl/cu113/torch_stable.html\n",
            "Requirement already satisfied: torch==1.10.1+cu113 in /usr/local/lib/python3.7/dist-packages (1.10.1+cu113)\n",
            "Requirement already satisfied: torchvision==0.11.2+cu113 in /usr/local/lib/python3.7/dist-packages (0.11.2+cu113)\n",
            "Requirement already satisfied: torchaudio==0.10.1+cu113 in /usr/local/lib/python3.7/dist-packages (0.10.1+cu113)\n",
            "Requirement already satisfied: typing-extensions in /usr/local/lib/python3.7/dist-packages (from torch==1.10.1+cu113) (4.2.0)\n",
            "Requirement already satisfied: numpy in /usr/local/lib/python3.7/dist-packages (from torchvision==0.11.2+cu113) (1.21.6)\n",
            "Requirement already satisfied: pillow!=8.3.0,>=5.3.0 in /usr/local/lib/python3.7/dist-packages (from torchvision==0.11.2+cu113) (7.1.2)\n"
          ]
        }
      ]
    },
    {
      "cell_type": "markdown",
      "source": [
        "## Install Apex"
      ],
      "metadata": {
        "id": "07JyjN8q0S6X"
      }
    },
    {
      "cell_type": "code",
      "source": [
        "! git clone https://github.com/NVIDIA/apex.git\n",
        "! cd apex\n",
        "! git checkout e2083df5eb96643c61613b9df48dd4eea6b07690\n",
        "! pip3 install -v --no-cache-dir --global-option=\"--cpp_ext\" --global-option=\"--cuda_ext\" --global-option=\"--deprecated_fused_adam\" --global-option=\"--xentropy\" --global-option=\"--fast_multihead_attn\" ./"
      ],
      "metadata": {
        "colab": {
          "base_uri": "https://localhost:8080/"
        },
        "id": "adnl3-zL0TDa",
        "outputId": "d0a69fa3-ce5b-41cb-9019-55bfc1e12e06"
      },
      "execution_count": 15,
      "outputs": [
        {
          "output_type": "stream",
          "name": "stdout",
          "text": [
            "fatal: destination path 'apex' already exists and is not an empty directory.\n",
            "fatal: not a git repository (or any of the parent directories): .git\n",
            "/usr/local/lib/python3.7/dist-packages/pip/_internal/commands/install.py:232: UserWarning: Disabling all use of wheels due to the use of --build-option / --global-option / --install-option.\n",
            "  cmdoptions.check_install_build_global(options)\n",
            "Using pip 21.1.3 from /usr/local/lib/python3.7/dist-packages/pip (python 3.7)\n",
            "Value for scheme.platlib does not match. Please report this to <https://github.com/pypa/pip/issues/9617>\n",
            "distutils: /usr/local/lib/python3.7/dist-packages\n",
            "sysconfig: /usr/lib/python3.7/site-packages\n",
            "Value for scheme.purelib does not match. Please report this to <https://github.com/pypa/pip/issues/9617>\n",
            "distutils: /usr/local/lib/python3.7/dist-packages\n",
            "sysconfig: /usr/lib/python3.7/site-packages\n",
            "Value for scheme.headers does not match. Please report this to <https://github.com/pypa/pip/issues/9617>\n",
            "distutils: /usr/local/include/python3.7/UNKNOWN\n",
            "sysconfig: /usr/include/python3.7m/UNKNOWN\n",
            "Value for scheme.scripts does not match. Please report this to <https://github.com/pypa/pip/issues/9617>\n",
            "distutils: /usr/local/bin\n",
            "sysconfig: /usr/bin\n",
            "Value for scheme.data does not match. Please report this to <https://github.com/pypa/pip/issues/9617>\n",
            "distutils: /usr/local\n",
            "sysconfig: /usr\n",
            "Additional context:\n",
            "user = False\n",
            "home = None\n",
            "root = None\n",
            "prefix = None\n",
            "Non-user install because site-packages writeable\n",
            "Created temporary directory: /tmp/pip-ephem-wheel-cache-szoinb0_\n",
            "Created temporary directory: /tmp/pip-req-tracker-hlr19wyi\n",
            "Initialized build tracking at /tmp/pip-req-tracker-hlr19wyi\n",
            "Created build tracker: /tmp/pip-req-tracker-hlr19wyi\n",
            "Entered build tracker: /tmp/pip-req-tracker-hlr19wyi\n",
            "Created temporary directory: /tmp/pip-install-42c4_s1q\n",
            "\u001b[31mERROR: Directory './' is not installable. Neither 'setup.py' nor 'pyproject.toml' found.\u001b[0m\n",
            "Exception information:\n",
            "Traceback (most recent call last):\n",
            "  File \"/usr/local/lib/python3.7/dist-packages/pip/_internal/cli/base_command.py\", line 180, in _main\n",
            "    status = self.run(options, args)\n",
            "  File \"/usr/local/lib/python3.7/dist-packages/pip/_internal/cli/req_command.py\", line 199, in wrapper\n",
            "    return func(self, options, args)\n",
            "  File \"/usr/local/lib/python3.7/dist-packages/pip/_internal/commands/install.py\", line 289, in run\n",
            "    reqs = self.get_requirements(args, options, finder, session)\n",
            "  File \"/usr/local/lib/python3.7/dist-packages/pip/_internal/cli/req_command.py\", line 370, in get_requirements\n",
            "    user_supplied=True,\n",
            "  File \"/usr/local/lib/python3.7/dist-packages/pip/_internal/req/constructors.py\", line 393, in install_req_from_line\n",
            "    parts = parse_req_from_line(name, line_source)\n",
            "  File \"/usr/local/lib/python3.7/dist-packages/pip/_internal/req/constructors.py\", line 307, in parse_req_from_line\n",
            "    url = _get_url_from_path(p, name)\n",
            "  File \"/usr/local/lib/python3.7/dist-packages/pip/_internal/req/constructors.py\", line 262, in _get_url_from_path\n",
            "    f\"Directory {name!r} is not installable. Neither 'setup.py' \"\n",
            "pip._internal.exceptions.InstallationError: Directory './' is not installable. Neither 'setup.py' nor 'pyproject.toml' found.\n",
            "Removed build tracker: '/tmp/pip-req-tracker-hlr19wyi'\n"
          ]
        }
      ]
    },
    {
      "cell_type": "markdown",
      "source": [
        "Depending on the hardware you're running on, you may need to comment out lines 101-107 in setup.py here.\n"
      ],
      "metadata": {
        "id": "EMQ1DpzT0uwb"
      }
    },
    {
      "cell_type": "markdown",
      "source": [
        "## Install Megatron"
      ],
      "metadata": {
        "id": "DqWbxdjv0wEB"
      }
    },
    {
      "cell_type": "code",
      "source": [
        "! git clone --branch fairseq_v2 https://github.com/ngoyal2707/Megatron-LM.git\n",
        "! cd Megatron-LM\n",
        "! pip3 install six regex\n",
        "! pip3 install -e ."
      ],
      "metadata": {
        "colab": {
          "base_uri": "https://localhost:8080/"
        },
        "id": "WoIvY47L1czw",
        "outputId": "9639cc99-7360-4088-c4c2-3d0cc0180407"
      },
      "execution_count": 16,
      "outputs": [
        {
          "output_type": "stream",
          "name": "stdout",
          "text": [
            "fatal: destination path 'Megatron-LM' already exists and is not an empty directory.\n",
            "Requirement already satisfied: six in /usr/local/lib/python3.7/dist-packages (1.15.0)\n",
            "Requirement already satisfied: regex in /usr/local/lib/python3.7/dist-packages (2019.12.20)\n",
            "\u001b[31mERROR: File \"setup.py\" or \"setup.cfg\" not found. Directory cannot be installed in editable mode: /content\u001b[0m\n"
          ]
        }
      ]
    },
    {
      "cell_type": "markdown",
      "source": [
        "## Install fairscale"
      ],
      "metadata": {
        "id": "i2tSZz811f0e"
      }
    },
    {
      "cell_type": "code",
      "source": [
        "! git clone https://github.com/facebookresearch/fairscale.git\n",
        "! cd fairscale\n",
        "! git checkout prefetch_fsdp_params_simple\n",
        "! pip3 install -e ."
      ],
      "metadata": {
        "colab": {
          "base_uri": "https://localhost:8080/"
        },
        "id": "oP60add71obz",
        "outputId": "f6f5978e-9173-40bd-a891-94ac97749ef1"
      },
      "execution_count": 17,
      "outputs": [
        {
          "output_type": "stream",
          "name": "stdout",
          "text": [
            "fatal: destination path 'fairscale' already exists and is not an empty directory.\n",
            "fatal: not a git repository (or any of the parent directories): .git\n",
            "\u001b[31mERROR: File \"setup.py\" or \"setup.cfg\" not found. Directory cannot be installed in editable mode: /content\u001b[0m\n"
          ]
        }
      ]
    },
    {
      "cell_type": "markdown",
      "source": [
        "## Install metaseq"
      ],
      "metadata": {
        "id": "p3hgJljm1tce"
      }
    },
    {
      "cell_type": "code",
      "source": [
        "! git clone https://github.com/facebookresearch/metaseq.git\n",
        "! cd metaseq\n",
        "! pip3 install -e .\n",
        "\n",
        "# turn on pre-commit hooks\n",
        "! pre-commit install"
      ],
      "metadata": {
        "colab": {
          "base_uri": "https://localhost:8080/"
        },
        "id": "-bRF-T0c1wtz",
        "outputId": "fbfeb471-a667-4559-bb8e-a821d40632df"
      },
      "execution_count": 18,
      "outputs": [
        {
          "output_type": "stream",
          "name": "stdout",
          "text": [
            "fatal: destination path 'metaseq' already exists and is not an empty directory.\n",
            "\u001b[31mERROR: File \"setup.py\" or \"setup.cfg\" not found. Directory cannot be installed in editable mode: /content\u001b[0m\n",
            "/bin/bash: pre-commit: command not found\n"
          ]
        }
      ]
    }
  ]
}